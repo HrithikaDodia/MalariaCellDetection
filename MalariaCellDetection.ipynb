{
  "nbformat": 4,
  "nbformat_minor": 0,
  "metadata": {
    "colab": {
      "name": "MalariaCellDetection.ipynb",
      "provenance": [],
      "collapsed_sections": []
    },
    "kernelspec": {
      "name": "python3",
      "display_name": "Python 3"
    }
  },
  "cells": [
    {
      "cell_type": "code",
      "metadata": {
        "id": "s-WbQqx2TORr",
        "colab_type": "code",
        "colab": {
          "base_uri": "https://localhost:8080/",
          "height": 67
        },
        "outputId": "0fdbe415-4ac1-492e-cd7d-bf3e60b9d9b4"
      },
      "source": [
        "! kaggle datasets download -d iarunava/cell-images-for-detecting-malaria"
      ],
      "execution_count": 6,
      "outputs": [
        {
          "output_type": "stream",
          "text": [
            "Downloading cell-images-for-detecting-malaria.zip to /content\n",
            " 98% 665M/675M [00:06<00:00, 99.0MB/s]\n",
            "100% 675M/675M [00:06<00:00, 114MB/s] \n"
          ],
          "name": "stdout"
        }
      ]
    },
    {
      "cell_type": "code",
      "metadata": {
        "id": "2kgn817ATSO0",
        "colab_type": "code",
        "colab": {}
      },
      "source": [
        "!unzip \\*.zip"
      ],
      "execution_count": null,
      "outputs": []
    },
    {
      "cell_type": "code",
      "metadata": {
        "id": "zdkSTAWgTVqO",
        "colab_type": "code",
        "colab": {}
      },
      "source": [
        "import numpy as np\n",
        "import os\n",
        "from PIL import Image"
      ],
      "execution_count": 8,
      "outputs": []
    },
    {
      "cell_type": "code",
      "metadata": {
        "id": "5LDpmhdBTl39",
        "colab_type": "code",
        "colab": {}
      },
      "source": [
        "positive = os.listdir(\"/content/cell_images/cell_images/Parasitized\")\n",
        "negative = os.listdir(\"/content/cell_images/cell_images/Uninfected\")\n",
        "\n",
        "dataset = []\n",
        "labels = []\n",
        "\n",
        "for img in positive:\n",
        "  if(img != 'Thumbs.db'):\n",
        "    im = Image.open('/content/cell_images/Parasitized/' + img)\n",
        "    size = im.resize((30,30))\n",
        "    image = np.array(size)\n",
        "    dataset.append(image)\n",
        "    labels.append(1)\n",
        "\n",
        "for img in negative:\n",
        "  if(img != 'Thumbs.db'):\n",
        "    im = Image.open('/content/cell_images/Uninfected/' + img)\n",
        "    size = im.resize((30,30))\n",
        "    image = np.array(size)\n",
        "    dataset.append(image)\n",
        "    labels.append(0)\n",
        "dataset = np.array(dataset)\n",
        "labels = np.array(labels)"
      ],
      "execution_count": 9,
      "outputs": []
    },
    {
      "cell_type": "code",
      "metadata": {
        "id": "HCokLlwfWeUc",
        "colab_type": "code",
        "colab": {
          "base_uri": "https://localhost:8080/",
          "height": 300
        },
        "outputId": "89783cf3-8778-415f-9b75-f577a591fe0e"
      },
      "source": [
        "import matplotlib.pyplot as plt\n",
        "plt.imshow(dataset[0])\n",
        "print(labels[0])\n",
        "print(labels[14500])"
      ],
      "execution_count": 10,
      "outputs": [
        {
          "output_type": "stream",
          "text": [
            "1\n",
            "0\n"
          ],
          "name": "stdout"
        },
        {
          "output_type": "display_data",
          "data": {
            "image/png": "[encoded data removed]",
            "text/plain": [
              "<Figure size 432x288 with 1 Axes>"
            ]
          },
          "metadata": {
            "tags": [],
            "needs_background": "light"
          }
        }
      ]
    },
    {
      "cell_type": "code",
      "metadata": {
        "id": "-61QvnV8aQbA",
        "colab_type": "code",
        "colab": {}
      },
      "source": [
        "from sklearn.model_selection import train_test_split\n",
        "\n",
        "train_x, x, train_y, y = train_test_split(dataset, labels, test_size = 0.2)\n",
        "val_x, test_x, val_y, test_y = train_test_split(x, y, test_size = 0.2)"
      ],
      "execution_count": 11,
      "outputs": []
    },
    {
      "cell_type": "code",
      "metadata": {
        "id": "mrQ_spYteHUv",
        "colab_type": "code",
        "colab": {
          "base_uri": "https://localhost:8080/",
          "height": 33
        },
        "outputId": "a99183ca-e962-4945-94ef-68027646fdaa"
      },
      "source": [
        "train_x[0].shape"
      ],
      "execution_count": 12,
      "outputs": [
        {
          "output_type": "execute_result",
          "data": {
            "text/plain": [
              "(30, 30, 3)"
            ]
          },
          "metadata": {
            "tags": []
          },
          "execution_count": 12
        }
      ]
    },
    {
      "cell_type": "code",
      "metadata": {
        "id": "ancQmKC4eKOt",
        "colab_type": "code",
        "colab": {
          "base_uri": "https://localhost:8080/",
          "height": 33
        },
        "outputId": "3f6abaf2-ee3f-4634-bd40-ae60dccb5566"
      },
      "source": [
        "import tensorflow as tf\n",
        "from tensorflow import keras\n",
        "from keras.layers import Conv2D, MaxPooling2D, Dropout, Dense, Flatten\n",
        "from keras.models import Sequential"
      ],
      "execution_count": 13,
      "outputs": [
        {
          "output_type": "stream",
          "text": [
            "Using TensorFlow backend.\n"
          ],
          "name": "stderr"
        }
      ]
    },
    {
      "cell_type": "code",
      "metadata": {
        "id": "QnfthbvOj11K",
        "colab_type": "code",
        "colab": {}
      },
      "source": [
        "model = Sequential([\n",
        "          Conv2D(16, (3, 3), input_shape = (30, 30, 3), activation = 'relu'),\n",
        "          MaxPooling2D((2, 2)),\n",
        "          Dropout(0.25),\n",
        "          Conv2D(32, (3, 3), activation = 'relu'),\n",
        "          MaxPooling2D((2, 2)),\n",
        "          Dropout(0.25),\n",
        "          Conv2D(64, (3, 3), activation = 'relu'),\n",
        "          MaxPooling2D((2, 2)),\n",
        "          Dropout(0.25),\n",
        "          Flatten(),\n",
        "          Dense(512, activation = 'relu'),\n",
        "          Dropout(0.4),\n",
        "          Dense(1, activation = 'sigmoid')\n",
        "])"
      ],
      "execution_count": 14,
      "outputs": []
    },
    {
      "cell_type": "code",
      "metadata": {
        "id": "DN8I-ha_lOpH",
        "colab_type": "code",
        "colab": {}
      },
      "source": [
        "model.compile(optimizer = 'adam', loss='binary_crossentropy', metrics = ['accuracy'])"
      ],
      "execution_count": 15,
      "outputs": []
    },
    {
      "cell_type": "code",
      "metadata": {
        "id": "9dhY3PfwlXrk",
        "colab_type": "code",
        "colab": {
          "base_uri": "https://localhost:8080/",
          "height": 368
        },
        "outputId": "60da1025-b9bc-4424-fcfb-0096ea38f5ae"
      },
      "source": [
        "history = model.fit(train_x, train_y, batch_size = 64, epochs = 10, validation_data = (val_x, val_y))"
      ],
      "execution_count": 16,
      "outputs": [
        {
          "output_type": "stream",
          "text": [
            "Train on 22046 samples, validate on 4409 samples\n",
            "Epoch 1/10\n",
            "22046/22046 [==============================] - 19s 842us/step - loss: 1.4890 - accuracy: 0.5055 - val_loss: 0.6933 - val_accuracy: 0.4997\n",
            "Epoch 2/10\n",
            "22046/22046 [==============================] - 17s 778us/step - loss: 0.6924 - accuracy: 0.5331 - val_loss: 0.6683 - val_accuracy: 0.6013\n",
            "Epoch 3/10\n",
            "22046/22046 [==============================] - 17s 786us/step - loss: 0.6767 - accuracy: 0.5808 - val_loss: 0.6449 - val_accuracy: 0.6312\n",
            "Epoch 4/10\n",
            "22046/22046 [==============================] - 17s 785us/step - loss: 0.6379 - accuracy: 0.6441 - val_loss: 0.5754 - val_accuracy: 0.7278\n",
            "Epoch 5/10\n",
            "22046/22046 [==============================] - 17s 778us/step - loss: 0.4031 - accuracy: 0.8205 - val_loss: 0.2222 - val_accuracy: 0.9263\n",
            "Epoch 6/10\n",
            "22046/22046 [==============================] - 17s 775us/step - loss: 0.2312 - accuracy: 0.9140 - val_loss: 0.1899 - val_accuracy: 0.9356\n",
            "Epoch 7/10\n",
            "22046/22046 [==============================] - 17s 784us/step - loss: 0.2050 - accuracy: 0.9281 - val_loss: 0.1688 - val_accuracy: 0.9465\n",
            "Epoch 8/10\n",
            "22046/22046 [==============================] - 17s 774us/step - loss: 0.1828 - accuracy: 0.9366 - val_loss: 0.1777 - val_accuracy: 0.9388\n",
            "Epoch 9/10\n",
            "22046/22046 [==============================] - 17s 772us/step - loss: 0.1764 - accuracy: 0.9423 - val_loss: 0.1641 - val_accuracy: 0.9483\n",
            "Epoch 10/10\n",
            "22046/22046 [==============================] - 17s 777us/step - loss: 0.1662 - accuracy: 0.9455 - val_loss: 0.1642 - val_accuracy: 0.9467\n"
          ],
          "name": "stdout"
        }
      ]
    },
    {
      "cell_type": "code",
      "metadata": {
        "id": "g8eunC7wlh9g",
        "colab_type": "code",
        "colab": {
          "base_uri": "https://localhost:8080/",
          "height": 590
        },
        "outputId": "466de1f8-d383-48b7-a93e-5357853492e8"
      },
      "source": [
        "plt.figure(0)\n",
        "plt.plot(history.history['accuracy'], label='training accuracy')\n",
        "plt.plot(history.history['val_accuracy'], label='val accuracy')\n",
        "plt.title('Accuracy')\n",
        "plt.xlabel('epochs')\n",
        "plt.ylabel('accuracy')\n",
        "plt.legend()\n",
        "plt.figure(1)\n",
        "plt.plot(history.history['loss'], label='training loss')\n",
        "plt.plot(history.history['val_loss'], label='val loss')\n",
        "plt.title('Loss')\n",
        "plt.xlabel('epochs')\n",
        "plt.ylabel('loss')\n",
        "plt.legend()"
      ],
      "execution_count": 17,
      "outputs": [
        {
          "output_type": "execute_result",
          "data": {
            "text/plain": [
              "<matplotlib.legend.Legend at 0x7f202c19cdd8>"
            ]
          },
          "metadata": {
            "tags": []
          },
          "execution_count": 17
        },
        {
          "output_type": "display_data",
          "data": {
            "image/png": "[encoded data removed]",
            "text/plain": [
              "<Figure size 432x288 with 1 Axes>"
            ]
          },
          "metadata": {
            "tags": [],
            "needs_background": "light"
          }
        },
        {
          "output_type": "display_data",
          "data": {
            "image/png": "[encoded data removed]",
            "text/plain": [
              "<Figure size 432x288 with 1 Axes>"
            ]
          },
          "metadata": {
            "tags": [],
            "needs_background": "light"
          }
        }
      ]
    },
    {
      "cell_type": "code",
      "metadata": {
        "id": "dJH-O9KTo6-y",
        "colab_type": "code",
        "colab": {
          "base_uri": "https://localhost:8080/",
          "height": 33
        },
        "outputId": "81a8cba9-3828-4cf0-d2c5-20cf995616c2"
      },
      "source": [
        "pred = model.predict_classes(test_x)\n",
        "#Accuracy with the test data\n",
        "from sklearn.metrics import accuracy_score\n",
        "accuracy_score(test_y, pred)"
      ],
      "execution_count": 18,
      "outputs": [
        {
          "output_type": "execute_result",
          "data": {
            "text/plain": [
              "0.9456029011786038"
            ]
          },
          "metadata": {
            "tags": []
          },
          "execution_count": 18
        }
      ]
    }
  ]
}